{
 "cells": [
  {
   "cell_type": "code",
   "execution_count": null,
   "metadata": {},
   "outputs": [],
   "source": [
    "import numpy as np\n",
    "import numpy.fft as fft\n",
    "\n",
    "from scipy import signal as sg\n",
    "from skimage import io\n",
    "\n",
    "import matplotlib.pyplot as plt\n",
    "from mpl_toolkits.mplot3d import Axes3D\n",
    "\n",
    "import sys\n",
    "sys.path.append(\"/home/tintin/rongheng/cv/lib/\")\n",
    "\n",
    "from image_lib import load_img, show_img, show_hist, resize_img\n",
    "from signal_lib import bandpass\n",
    "from edge_lib import threshold\n",
    "\n",
    "img = load_img(\"bearing_scrached_fuji_tunnel.jpg\")"
   ]
  },
  {
   "cell_type": "code",
   "execution_count": null,
   "metadata": {},
   "outputs": [],
   "source": [
    "def bandpass_kernel(lowcut, highcut, transition, sample_frequency):\n",
    "    bandpass_wavelet, length = bandpass(lowcut, highcut, transition, sample_frequency)\n",
    "    bandpass_2d = np.outer(bandpass_wavelet, bandpass_wavelet)\n",
    "\n",
    "    return bandpass_2d, length"
   ]
  },
  {
   "cell_type": "code",
   "execution_count": null,
   "metadata": {},
   "outputs": [],
   "source": [
    "kernel, length = bandpass_kernel(500, 5, 1, sample_frequency=1000)\n",
    "filtered_img = sg.convolve(kernel, img, 'full')\n",
    "filtered_img = filtered_img[length:-length,length:-length]\n",
    "filtered_img = threshold(filtered_img, -5.5, invert=True)"
   ]
  },
  {
   "cell_type": "code",
   "execution_count": null,
   "metadata": {},
   "outputs": [],
   "source": [
    "show_img(filtered_img, filtered_img, size=(10,10), color=\"bwr\")"
   ]
  },
  {
   "cell_type": "code",
   "execution_count": null,
   "metadata": {},
   "outputs": [],
   "source": [
    "_, size = kernel.shape\n",
    "X, Y = np.meshgrid(np.linspace(0,1,size), np.linspace(0,1,size))\n",
    "\n",
    "fig = plt.figure()\n",
    "ax = fig.gca(projection='3d')\n",
    "ax.plot_surface(X, Y, kernel, rstride=1, cstride=1, cmap=\"gray\", linewidth=0, aa=False)"
   ]
  },
  {
   "cell_type": "code",
   "execution_count": null,
   "metadata": {},
   "outputs": [],
   "source": [
    "scratches = threshold(np.abs(filtered_img), .23, percent=True)\n",
    "show_img(scratches,color=True,size=(12,12))\n",
    "\n",
    "show_hist(scratches)"
   ]
  },
  {
   "cell_type": "code",
   "execution_count": null,
   "metadata": {},
   "outputs": [],
   "source": [
    "fourier_raw = fft.fft2(filtered_img)\n",
    "fourier_img = fft.fftshift(fourier_raw)\n",
    "show_img((20*np.log10(0.1 + fourier_img)).astype(int), color=True) "
   ]
  },
  {
   "cell_type": "code",
   "execution_count": null,
   "metadata": {
    "scrolled": false
   },
   "outputs": [],
   "source": [
    "# Morphology\n",
    "binary_img = scratches.astype(bool)  # make binary\n",
    "#binary_img = np.logical_not(binary_img)  # invert\n",
    "\n",
    "#struct_elem = morph.generate_binary_structure(2, 1)\n",
    "#print(struct_elem.astype(int))\n",
    "\n",
    "#scratches = morph.binary_dilation(binary_img, struct_elem, 1)\n",
    "\n",
    "labels, num_obj = measure.label(binary_img)\n",
    "show_img(labels, color=True, size=(10,10))\n",
    "show_hist(labels)\n",
    "\n",
    "measure.find_objects(labels,max_label=3)"
   ]
  },
  {
   "cell_type": "code",
   "execution_count": null,
   "metadata": {},
   "outputs": [],
   "source": [
    "# Points\n",
    "resized_img = resize_img(img, scratches.shape)\n",
    "points = get_points(scratches, min_dist=10, allow_cluster=True)\n",
    "overlay_points(resized_img, points, size=(10, 10))"
   ]
  },
  {
   "cell_type": "code",
   "execution_count": null,
   "metadata": {},
   "outputs": [],
   "source": [
    "# Count \n",
    "labels, num_scraches = measure.label(scratches_dial)\n",
    "print(\"Number of Scraches: \", num_scraches)"
   ]
  },
  {
   "cell_type": "code",
   "execution_count": null,
   "metadata": {},
   "outputs": [],
   "source": []
  },
  {
   "cell_type": "code",
   "execution_count": null,
   "metadata": {},
   "outputs": [],
   "source": []
  }
 ],
 "metadata": {
  "kernelspec": {
   "display_name": "Python 3",
   "language": "python",
   "name": "python3"
  },
  "language_info": {
   "codemirror_mode": {
    "name": "ipython",
    "version": 3
   },
   "file_extension": ".py",
   "mimetype": "text/x-python",
   "name": "python",
   "nbconvert_exporter": "python",
   "pygments_lexer": "ipython3",
   "version": "3.7.3"
  }
 },
 "nbformat": 4,
 "nbformat_minor": 2
}
