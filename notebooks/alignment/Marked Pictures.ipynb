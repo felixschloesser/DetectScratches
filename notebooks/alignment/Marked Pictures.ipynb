{
 "cells": [
  {
   "cell_type": "code",
   "execution_count": null,
   "metadata": {},
   "outputs": [],
   "source": [
    "from bs4 import BeautifulSoup as Soup\n",
    "import numpy as np\n",
    "from scipy.ndimage import affine_transform\n",
    "from PIL import Image\n",
    "import os\n",
    "\n",
    "import sys\n",
    "sys.path.append(\"/home/tintin/rongheng/cv/\")\n",
    "\n",
    "from lib.image_lib import load_img, show_img, save_img\n",
    "\n",
    "xml_filename = \"jkfaces.xml\""
   ]
  }
 ],
 "metadata": {
  "kernelspec": {
   "display_name": "Python 3",
   "language": "python",
   "name": "python3"
  },
  "language_info": {
   "codemirror_mode": {
    "name": "ipython",
    "version": 3
   },
   "file_extension": ".py",
   "mimetype": "text/x-python",
   "name": "python",
   "nbconvert_exporter": "python",
   "pygments_lexer": "ipython3",
   "version": "3.7.3"
  }
 },
 "nbformat": 4,
 "nbformat_minor": 2
}
