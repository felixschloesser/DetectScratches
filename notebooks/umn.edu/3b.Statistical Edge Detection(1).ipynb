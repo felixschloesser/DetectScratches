{
 "cells": [
  {
   "cell_type": "markdown",
   "metadata": {},
   "source": [
    "Reference: \n",
    "**S. M. Konishi, A.L. Yuille, J.M. Coughlan and S.C. Zhu. Statistical Edge Detection: Learning and Evaluating Edge Cues. IEEE Transactions on Pattern Analysis and Machine Intelligence. TPAMI. Vol. 25, No. 1, pp 57-74. January 2003.**"
   ]
  },
  {
   "cell_type": "markdown",
   "metadata": {},
   "source": [
    "# Initialization and define some utility functions"
   ]
  },
  {
   "cell_type": "code",
   "execution_count": 1,
   "metadata": {},
   "outputs": [],
   "source": [
    "import numpy as np\n",
    "import matplotlib.pyplot as plt\n",
    "%matplotlib inline\n",
    "\n",
    "def myimshow(im):\n",
    "    plt.figure()\n",
    "    plt.axis('off')\n",
    "    plt.imshow(im, cmap=plt.gray())"
   ]
  },
  {
   "cell_type": "markdown",
   "metadata": {},
   "source": [
    "# Read image and edge map"
   ]
  },
  {
   "cell_type": "code",
   "execution_count": 2,
   "metadata": {},
   "outputs": [
    {
     "ename": "FileNotFoundError",
     "evalue": "[Errno 2] No such file or directory: '../data/edge/boundaryMap/41004.bmp'",
     "output_type": "error",
     "traceback": [
      "\u001b[0;31m---------------------------------------------------------------------------\u001b[0m",
      "\u001b[0;31mFileNotFoundError\u001b[0m                         Traceback (most recent call last)",
      "\u001b[0;32m<ipython-input-2-9d4bb0361bbb>\u001b[0m in \u001b[0;36m<module>\u001b[0;34m\u001b[0m\n\u001b[1;32m     13\u001b[0m     \u001b[0;32mreturn\u001b[0m \u001b[0;34m[\u001b[0m\u001b[0mgrayIm\u001b[0m\u001b[0;34m,\u001b[0m \u001b[0medgeMap\u001b[0m\u001b[0;34m]\u001b[0m\u001b[0;34m\u001b[0m\u001b[0;34m\u001b[0m\u001b[0m\n\u001b[1;32m     14\u001b[0m \u001b[0;34m\u001b[0m\u001b[0m\n\u001b[0;32m---> 15\u001b[0;31m \u001b[0;34m[\u001b[0m\u001b[0mim\u001b[0m\u001b[0;34m,\u001b[0m \u001b[0medgeMap\u001b[0m\u001b[0;34m]\u001b[0m \u001b[0;34m=\u001b[0m \u001b[0mloadData\u001b[0m\u001b[0;34m(\u001b[0m\u001b[0mid\u001b[0m\u001b[0;34m)\u001b[0m\u001b[0;34m\u001b[0m\u001b[0;34m\u001b[0m\u001b[0m\n\u001b[0m\u001b[1;32m     16\u001b[0m \u001b[0mmyimshow\u001b[0m\u001b[0;34m(\u001b[0m\u001b[0medgeMap\u001b[0m\u001b[0;34m)\u001b[0m\u001b[0;34m;\u001b[0m \u001b[0;31m# title('Boundary')\u001b[0m\u001b[0;34m\u001b[0m\u001b[0;34m\u001b[0m\u001b[0m\n\u001b[1;32m     17\u001b[0m \u001b[0mmyimshow\u001b[0m\u001b[0;34m(\u001b[0m\u001b[0mim\u001b[0m \u001b[0;34m*\u001b[0m \u001b[0;34m(\u001b[0m\u001b[0medgeMap\u001b[0m\u001b[0;34m==\u001b[0m\u001b[0;36m0\u001b[0m\u001b[0;34m)\u001b[0m\u001b[0;34m)\u001b[0m\u001b[0;34m;\u001b[0m \u001b[0;31m# title('Image with boundary')\u001b[0m\u001b[0;34m\u001b[0m\u001b[0;34m\u001b[0m\u001b[0m\n",
      "\u001b[0;32m<ipython-input-2-9d4bb0361bbb>\u001b[0m in \u001b[0;36mloadData\u001b[0;34m(id)\u001b[0m\n\u001b[1;32m      8\u001b[0m \u001b[0;32mdef\u001b[0m \u001b[0mloadData\u001b[0m\u001b[0;34m(\u001b[0m\u001b[0mid\u001b[0m\u001b[0;34m)\u001b[0m\u001b[0;34m:\u001b[0m\u001b[0;34m\u001b[0m\u001b[0;34m\u001b[0m\u001b[0m\n\u001b[1;32m      9\u001b[0m     \u001b[0;32mfrom\u001b[0m \u001b[0mskimage\u001b[0m\u001b[0;34m.\u001b[0m\u001b[0mcolor\u001b[0m \u001b[0;32mimport\u001b[0m \u001b[0mrgb2gray\u001b[0m\u001b[0;34m\u001b[0m\u001b[0;34m\u001b[0m\u001b[0m\n\u001b[0;32m---> 10\u001b[0;31m     \u001b[0medgeMap\u001b[0m \u001b[0;34m=\u001b[0m \u001b[0mplt\u001b[0m\u001b[0;34m.\u001b[0m\u001b[0mimread\u001b[0m\u001b[0;34m(\u001b[0m\u001b[0;34m'../data/edge/boundaryMap/'\u001b[0m \u001b[0;34m+\u001b[0m \u001b[0mid\u001b[0m \u001b[0;34m+\u001b[0m \u001b[0;34m'.bmp'\u001b[0m\u001b[0;34m)\u001b[0m\u001b[0;34m;\u001b[0m \u001b[0medgeMap\u001b[0m \u001b[0;34m=\u001b[0m \u001b[0medgeMap\u001b[0m\u001b[0;34m[\u001b[0m\u001b[0;34m:\u001b[0m\u001b[0;34m,\u001b[0m\u001b[0;34m:\u001b[0m\u001b[0;34m,\u001b[0m\u001b[0;36m0\u001b[0m\u001b[0;34m]\u001b[0m\u001b[0;34m\u001b[0m\u001b[0;34m\u001b[0m\u001b[0m\n\u001b[0m\u001b[1;32m     11\u001b[0m     \u001b[0mim\u001b[0m \u001b[0;34m=\u001b[0m \u001b[0mplt\u001b[0m\u001b[0;34m.\u001b[0m\u001b[0mimread\u001b[0m\u001b[0;34m(\u001b[0m\u001b[0;34m'../data/edge/trainImgs/'\u001b[0m \u001b[0;34m+\u001b[0m \u001b[0mid\u001b[0m \u001b[0;34m+\u001b[0m \u001b[0;34m'.jpg'\u001b[0m\u001b[0;34m)\u001b[0m\u001b[0;34m\u001b[0m\u001b[0;34m\u001b[0m\u001b[0m\n\u001b[1;32m     12\u001b[0m     \u001b[0mgrayIm\u001b[0m \u001b[0;34m=\u001b[0m \u001b[0mrgb2gray\u001b[0m\u001b[0;34m(\u001b[0m\u001b[0mim\u001b[0m\u001b[0;34m)\u001b[0m\u001b[0;34m\u001b[0m\u001b[0;34m\u001b[0m\u001b[0m\n",
      "\u001b[0;32m/opt/conda/lib/python3.7/site-packages/matplotlib/pyplot.py\u001b[0m in \u001b[0;36mimread\u001b[0;34m(fname, format)\u001b[0m\n\u001b[1;32m   2133\u001b[0m \u001b[0;34m@\u001b[0m\u001b[0mdocstring\u001b[0m\u001b[0;34m.\u001b[0m\u001b[0mcopy\u001b[0m\u001b[0;34m(\u001b[0m\u001b[0mmatplotlib\u001b[0m\u001b[0;34m.\u001b[0m\u001b[0mimage\u001b[0m\u001b[0;34m.\u001b[0m\u001b[0mimread\u001b[0m\u001b[0;34m)\u001b[0m\u001b[0;34m\u001b[0m\u001b[0;34m\u001b[0m\u001b[0m\n\u001b[1;32m   2134\u001b[0m \u001b[0;32mdef\u001b[0m \u001b[0mimread\u001b[0m\u001b[0;34m(\u001b[0m\u001b[0mfname\u001b[0m\u001b[0;34m,\u001b[0m \u001b[0mformat\u001b[0m\u001b[0;34m=\u001b[0m\u001b[0;32mNone\u001b[0m\u001b[0;34m)\u001b[0m\u001b[0;34m:\u001b[0m\u001b[0;34m\u001b[0m\u001b[0;34m\u001b[0m\u001b[0m\n\u001b[0;32m-> 2135\u001b[0;31m     \u001b[0;32mreturn\u001b[0m \u001b[0mmatplotlib\u001b[0m\u001b[0;34m.\u001b[0m\u001b[0mimage\u001b[0m\u001b[0;34m.\u001b[0m\u001b[0mimread\u001b[0m\u001b[0;34m(\u001b[0m\u001b[0mfname\u001b[0m\u001b[0;34m,\u001b[0m \u001b[0mformat\u001b[0m\u001b[0;34m)\u001b[0m\u001b[0;34m\u001b[0m\u001b[0;34m\u001b[0m\u001b[0m\n\u001b[0m\u001b[1;32m   2136\u001b[0m \u001b[0;34m\u001b[0m\u001b[0m\n\u001b[1;32m   2137\u001b[0m \u001b[0;34m\u001b[0m\u001b[0m\n",
      "\u001b[0;32m/opt/conda/lib/python3.7/site-packages/matplotlib/image.py\u001b[0m in \u001b[0;36mimread\u001b[0;34m(fname, format)\u001b[0m\n\u001b[1;32m   1415\u001b[0m                              \u001b[0;34m'with Pillow installed matplotlib can handle '\u001b[0m\u001b[0;34m\u001b[0m\u001b[0;34m\u001b[0m\u001b[0m\n\u001b[1;32m   1416\u001b[0m                              'more images' % list(handlers))\n\u001b[0;32m-> 1417\u001b[0;31m         \u001b[0;32mwith\u001b[0m \u001b[0mImage\u001b[0m\u001b[0;34m.\u001b[0m\u001b[0mopen\u001b[0m\u001b[0;34m(\u001b[0m\u001b[0mfname\u001b[0m\u001b[0;34m)\u001b[0m \u001b[0;32mas\u001b[0m \u001b[0mimage\u001b[0m\u001b[0;34m:\u001b[0m\u001b[0;34m\u001b[0m\u001b[0;34m\u001b[0m\u001b[0m\n\u001b[0m\u001b[1;32m   1418\u001b[0m             \u001b[0;32mreturn\u001b[0m \u001b[0mpil_to_array\u001b[0m\u001b[0;34m(\u001b[0m\u001b[0mimage\u001b[0m\u001b[0;34m)\u001b[0m\u001b[0;34m\u001b[0m\u001b[0;34m\u001b[0m\u001b[0m\n\u001b[1;32m   1419\u001b[0m \u001b[0;34m\u001b[0m\u001b[0m\n",
      "\u001b[0;32m/opt/conda/lib/python3.7/site-packages/PIL/Image.py\u001b[0m in \u001b[0;36mopen\u001b[0;34m(fp, mode)\u001b[0m\n\u001b[1;32m   2768\u001b[0m \u001b[0;34m\u001b[0m\u001b[0m\n\u001b[1;32m   2769\u001b[0m     \u001b[0;32mif\u001b[0m \u001b[0mfilename\u001b[0m\u001b[0;34m:\u001b[0m\u001b[0;34m\u001b[0m\u001b[0;34m\u001b[0m\u001b[0m\n\u001b[0;32m-> 2770\u001b[0;31m         \u001b[0mfp\u001b[0m \u001b[0;34m=\u001b[0m \u001b[0mbuiltins\u001b[0m\u001b[0;34m.\u001b[0m\u001b[0mopen\u001b[0m\u001b[0;34m(\u001b[0m\u001b[0mfilename\u001b[0m\u001b[0;34m,\u001b[0m \u001b[0;34m\"rb\"\u001b[0m\u001b[0;34m)\u001b[0m\u001b[0;34m\u001b[0m\u001b[0;34m\u001b[0m\u001b[0m\n\u001b[0m\u001b[1;32m   2771\u001b[0m         \u001b[0mexclusive_fp\u001b[0m \u001b[0;34m=\u001b[0m \u001b[0;32mTrue\u001b[0m\u001b[0;34m\u001b[0m\u001b[0;34m\u001b[0m\u001b[0m\n\u001b[1;32m   2772\u001b[0m \u001b[0;34m\u001b[0m\u001b[0m\n",
      "\u001b[0;31mFileNotFoundError\u001b[0m: [Errno 2] No such file or directory: '../data/edge/boundaryMap/41004.bmp'"
     ]
    }
   ],
   "source": [
    "# Show image and edge labeling\n",
    "# id = '100075'\n",
    "# id = '35010' # butterfly\n",
    "# id = '97017' # building\n",
    "id = '41004' # deer\n",
    "# Change the id to try a differnt image\n",
    "\n",
    "def loadData(id):\n",
    "    from skimage.color import rgb2gray\n",
    "    edgeMap = plt.imread('../data/edge/boundaryMap/' + id + '.bmp'); edgeMap = edgeMap[:,:,0]\n",
    "    im = plt.imread('../data/edge/trainImgs/' + id + '.jpg')\n",
    "    grayIm = rgb2gray(im)\n",
    "    return [grayIm, edgeMap]\n",
    "\n",
    "[im, edgeMap] = loadData(id)\n",
    "myimshow(edgeMap); # title('Boundary')\n",
    "myimshow(im * (edgeMap==0)); # title('Image with boundary')"
   ]
  },
  {
   "cell_type": "markdown",
   "metadata": {},
   "source": [
    "# Define function to filter image \n",
    "$ \\frac{dI}{dx} $, $ \\frac{dG*I}{dx} $"
   ]
  },
  {
   "cell_type": "code",
   "execution_count": null,
   "metadata": {},
   "outputs": [],
   "source": [
    "def dIdx(im):\n",
    "    # Compute magnitude of gradient\n",
    "    # 'CentralDifference' : Central difference gradient dI/dx = (I(x+1)- I(x-1))/ 2\n",
    "    dx = (np.roll(im, 1, axis=1) - np.roll(im, -1, axis=1))/2\n",
    "    dy = (np.roll(im, 1, axis=0) - np.roll(im, -1, axis=0))/2\n",
    "    mag = np.sqrt(dx**2 + dy**2)\n",
    "    return mag\n",
    "\n",
    "def dgIdx(im, sigma=1.5):\n",
    "    from scipy.ndimage import gaussian_filter\n",
    "    gauss = gaussian_filter(im, sigma = sigma)\n",
    "    dgauss = dIdx(gauss)\n",
    "    return dgauss\n",
    "\n",
    "dx = dIdx(im)\n",
    "dgI = dgIdx(im)\n",
    "\n",
    "# Show filtered images\n",
    "myimshow(dx); # title(r'$ \\frac{dI}{dx} $')\n",
    "myimshow(dgI); # title(r'$ \\frac{d G*I}{dx} $')\n",
    "\n",
    "# def showEdge(im, edgeMap):\n",
    "#     # draw edge pixel\n",
    "#     im = im * (edgeMap != 0)\n",
    "#     figure(); myimshow(im); title('Highlight edge')"
   ]
  },
  {
   "cell_type": "code",
   "execution_count": null,
   "metadata": {},
   "outputs": [],
   "source": [
    "def kde(x):\n",
    "    # Kernel density estimation, to get P(dI/dx | on edge) and P(dI/dx | off edge) from data\n",
    "    from scipy.stats import gaussian_kde\n",
    "    f = gaussian_kde(x, bw_method=0.01 / x.std(ddof=1))\n",
    "    return f\n",
    "    \n",
    "def ponEdge(im, edgeMap):\n",
    "    # Compute on edge histogram\n",
    "    # im is filtered image\n",
    "    \n",
    "    # Convert edge map to pixel index\n",
    "    flattenEdgeMap = edgeMap.flatten()\n",
    "    edgeIdx = [i for i in range(len(flattenEdgeMap)) if flattenEdgeMap[i]]\n",
    "    \n",
    "    # find edge pixel in 3x3 region, shift the edge map a bit, in case of inaccurate boundary labeling\n",
    "    [offx, offy] = np.meshgrid(np.arange(-1,2), np.arange(-1,2)); offx = offx.flatten(); offy = offy.flatten()\n",
    "    maxVal = np.copy(im)\n",
    "    for i in range(9):\n",
    "        im1 = np.roll(im, offx[i], axis=1) # x axis\n",
    "        im1 = np.roll(im1, offy[i], axis=0) # y axis    \n",
    "        maxVal = np.maximum(maxVal, im1)\n",
    "\n",
    "    vals = maxVal.flatten()\n",
    "    onEdgeVals = vals[edgeIdx]\n",
    "    \n",
    "    bins = np.linspace(0,0.5, 100)\n",
    "    [n, bins] = np.histogram(onEdgeVals, bins=bins)\n",
    "    # n = n+1 # Avoid divide by zero\n",
    "\n",
    "    pon = kde(onEdgeVals)\n",
    "\n",
    "    return [n, bins, pon]\n",
    "\n",
    "\n",
    "def poffEdge(im, edgeMap):\n",
    "    flattenEdgeMap = edgeMap.flatten()\n",
    "    noneEdgeIdx = [i for i in range(len(flattenEdgeMap)) if not flattenEdgeMap[i]]\n",
    "    \n",
    "    vals = im.flatten()\n",
    "    offEdgeVals = vals[noneEdgeIdx] \n",
    "\n",
    "    bins = np.linspace(0,0.5, 100)\n",
    "    n, bins = np.histogram(offEdgeVals, bins=bins)\n",
    "\n",
    "    # n = n+1\n",
    "    # p = n / sum(n)\n",
    "    \n",
    "    poff = kde(offEdgeVals)\n",
    "    \n",
    "    return [n, bins, poff]\n",
    "\n",
    "dx = dIdx(im)\n",
    "[n1, bins, pon] = ponEdge(dx, edgeMap)\n",
    "[n2, bins, poff] = poffEdge(dx, edgeMap)\n",
    "\n",
    "plt.figure(); # Plot on edge\n",
    "# title('(Normalized) Histogram of on/off edge pixels')\n",
    "plt.plot((bins[:-1] + bins[1:])/2, n1.astype(float)/sum(n1), '-', lw=2, label=\"p(f|y=1)\")\n",
    "plt.plot((bins[:-1] + bins[1:])/2, n2.astype(float)/sum(n2), '--', lw=2, label=\"p(f|y=-1)\")\n",
    "plt.legend()\n",
    "\n",
    "plt.figure()\n",
    "# title('Density function of on/off edge pixels')\n",
    "plt.plot(bins, pon(bins), '-', alpha=0.5, lw=3, label=\"p(f|y=1)\")\n",
    "plt.plot(bins, poff(bins), '--', alpha=0.5, lw=3, label=\"p(f|y=-1)\")\n",
    "plt.legend()"
   ]
  },
  {
   "cell_type": "markdown",
   "metadata": {},
   "source": [
    "# Compute $ P(\\frac{dI}{dx} | \\text{on edge}) $ and $ P(\\frac{dI}{dx} | \\text{off edge}) $"
   ]
  },
  {
   "cell_type": "code",
   "execution_count": null,
   "metadata": {},
   "outputs": [],
   "source": [
    "ponIm = pon(dx.flatten()).reshape(dx.shape) # evaluate pon on a vector and reshape the vector to the image size\n",
    "myimshow(ponIm)"
   ]
  },
  {
   "cell_type": "code",
   "execution_count": null,
   "metadata": {},
   "outputs": [],
   "source": [
    "poffIm = poff(dx.flatten()).reshape(dx.shape) # Slow, evaluation of this cell may take several minutes\n",
    "myimshow(poffIm)"
   ]
  },
  {
   "cell_type": "code",
   "execution_count": null,
   "metadata": {},
   "outputs": [],
   "source": [
    "T = 1\n",
    "myimshow(log(ponIm/poffIm)>T) # "
   ]
  },
  {
   "cell_type": "markdown",
   "metadata": {},
   "source": [
    "# Show ROC curve"
   ]
  },
  {
   "cell_type": "code",
   "execution_count": null,
   "metadata": {},
   "outputs": [],
   "source": [
    "gt = (edgeMap!=0)\n",
    "print np.sum(gt == True) # Edge\n",
    "print np.sum(gt == False) # Non-edge"
   ]
  },
  {
   "cell_type": "code",
   "execution_count": null,
   "metadata": {},
   "outputs": [],
   "source": [
    "def ROCpoint(predict, gt):\n",
    "    # predict = (log(ponIm/poffIm)>=T)\n",
    "    truePos = (predict==True) & (gt == predict)\n",
    "    trueNeg = (predict==False) & (gt == predict)\n",
    "\n",
    "    falsePos = (predict==True) & (gt != predict)\n",
    "    falseNeg = (predict==False) & (gt != predict)\n",
    "\n",
    "    y = double(truePos.sum()) / np.sum(gt == True)\n",
    "    x = double(falsePos.sum()) / np.sum(gt == False)\n",
    "    return [x, y]\n",
    "\n",
    "p = []\n",
    "for T in np.arange(-5, 5, step=0.1):\n",
    "    predict = (log(ponIm/poffIm)>=T)\n",
    "    p.append(ROCpoint(predict, gt))\n",
    "x = [v[0] for v in p]\n",
    "y = [v[1] for v in p]\n",
    "plt.plot(x, y)\n",
    "plt.xlabel('False positive rate')\n",
    "plt.ylabel('True positive rate')"
   ]
  },
  {
   "cell_type": "markdown",
   "metadata": {},
   "source": [
    "## Interactive: Change threshold \n",
    "\n",
    "Below is an interactive demo to show the result for different threshold T. You can also observe the point on ROC curve.\n",
    "\n",
    "(Evaluate next cell to run the demo)\n",
    "\n",
    "<img width=\"600\" src='../data/edge/snapshot.png'>"
   ]
  },
  {
   "cell_type": "code",
   "execution_count": null,
   "metadata": {},
   "outputs": [],
   "source": [
    "# interactive threshold demo, evaluate this cell\n",
    "from IPython.html.widgets import interact, interactive, fixed\n",
    "def demoThreshold(T):\n",
    "    predict = (log(ponIm/poffIm)>=T)\n",
    "    plt.figure(1)\n",
    "    imshow(predict)\n",
    "    p = ROCpoint(predict, gt)\n",
    "    plt.figure(2)\n",
    "    plt.plot(x, y)\n",
    "    plt.plot(p[0], p[1], '*')\n",
    "    plt.xlabel('False positive rate')\n",
    "    plt.ylabel('True positive rate')\n",
    "\n",
    "# compute ROC curve\n",
    "p = []\n",
    "for T in np.arange(-5, 5, step=0.1):\n",
    "    predict = (log(ponIm/poffIm)>=T)\n",
    "    p.append(ROCpoint(predict, gt))\n",
    "x = [v[0] for v in p]\n",
    "y = [v[1] for v in p]\n",
    "    \n",
    "interact(demoThreshold, T=(-5, 5, 0.1))"
   ]
  },
  {
   "cell_type": "markdown",
   "metadata": {},
   "source": [
    "# Exercise:\n",
    "1. Load another image, apply this edge detection algorithm, find a good threshold and display your result\n",
    "2. Use $ \\frac{dG*I}{dx} $ for edge detection. G is a Gaussian. Show results for different variances."
   ]
  }
 ],
 "metadata": {
  "kernelspec": {
   "display_name": "Python 3",
   "language": "python",
   "name": "python3"
  },
  "language_info": {
   "codemirror_mode": {
    "name": "ipython",
    "version": 3
   },
   "file_extension": ".py",
   "mimetype": "text/x-python",
   "name": "python",
   "nbconvert_exporter": "python",
   "pygments_lexer": "ipython3",
   "version": "3.7.3"
  }
 },
 "nbformat": 4,
 "nbformat_minor": 1
}
