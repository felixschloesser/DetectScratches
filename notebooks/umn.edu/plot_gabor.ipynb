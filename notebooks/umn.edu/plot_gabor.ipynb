{
  "cells": [
    {
      "cell_type": "code",
      "execution_count": null,
      "metadata": {
        "collapsed": false
      },
      "outputs": [],
      "source": [
        "%matplotlib inline"
      ]
    },
    {
      "cell_type": "markdown",
      "metadata": {},
      "source": [
        "\n# Gabor filter banks for texture classification\n\n\nIn this example, we will see how to classify textures based on Gabor filter\nbanks. Frequency and orientation representations of the Gabor filter are\nsimilar to those of the human visual system.\n\nThe images are filtered using the real parts of various different Gabor filter\nkernels. The mean and variance of the filtered images are then used as features\nfor classification, which is based on the least squared error for simplicity.\n\n\n"
      ]
    },
    {
      "cell_type": "code",
      "execution_count": null,
      "metadata": {
        "collapsed": false
      },
      "outputs": [],
      "source": [
        "import matplotlib.pyplot as plt\nimport numpy as np\nfrom scipy import ndimage as ndi\n\nfrom skimage import data\nfrom skimage.util import img_as_float\nfrom skimage.filters import gabor_kernel\n\n\ndef compute_feats(image, kernels):\n    feats = np.zeros((len(kernels), 2), dtype=np.double)\n    for k, kernel in enumerate(kernels):\n        filtered = ndi.convolve(image, kernel, mode='wrap')\n        feats[k, 0] = filtered.mean()\n        feats[k, 1] = filtered.var()\n    return feats\n\n\ndef match(feats, ref_feats):\n    min_error = np.inf\n    min_i = None\n    for i in range(ref_feats.shape[0]):\n        error = np.sum((feats - ref_feats[i, :])**2)\n        if error < min_error:\n            min_error = error\n            min_i = i\n    return min_i\n\n\n# prepare filter bank kernels\nkernels = []\nfor theta in range(4):\n    theta = theta / 4. * np.pi\n    for sigma in (1, 3):\n        for frequency in (0.05, 0.25):\n            kernel = np.real(gabor_kernel(frequency, theta=theta,\n                                          sigma_x=sigma, sigma_y=sigma))\n            kernels.append(kernel)\n\n\nshrink = (slice(0, None, 3), slice(0, None, 3))\nbrick = img_as_float(data.brick())[shrink]\ngrass = img_as_float(data.grass())[shrink]\ngravel = img_as_float(data.gravel())[shrink]\nimage_names = ('brick', 'grass', 'gravel')\nimages = (brick, grass, gravel)\n\n# prepare reference features\nref_feats = np.zeros((3, len(kernels), 2), dtype=np.double)\nref_feats[0, :, :] = compute_feats(brick, kernels)\nref_feats[1, :, :] = compute_feats(grass, kernels)\nref_feats[2, :, :] = compute_feats(gravel, kernels)\n\nprint('Rotated images matched against references using Gabor filter banks:')\n\nprint('original: brick, rotated: 30deg, match result: ', end='')\nfeats = compute_feats(ndi.rotate(brick, angle=190, reshape=False), kernels)\nprint(image_names[match(feats, ref_feats)])\n\nprint('original: brick, rotated: 70deg, match result: ', end='')\nfeats = compute_feats(ndi.rotate(brick, angle=70, reshape=False), kernels)\nprint(image_names[match(feats, ref_feats)])\n\nprint('original: grass, rotated: 145deg, match result: ', end='')\nfeats = compute_feats(ndi.rotate(grass, angle=145, reshape=False), kernels)\nprint(image_names[match(feats, ref_feats)])\n\n\ndef power(image, kernel):\n    # Normalize images for better comparison.\n    image = (image - image.mean()) / image.std()\n    return np.sqrt(ndi.convolve(image, np.real(kernel), mode='wrap')**2 +\n                   ndi.convolve(image, np.imag(kernel), mode='wrap')**2)\n\n# Plot a selection of the filter bank kernels and their responses.\nresults = []\nkernel_params = []\nfor theta in (0, 1):\n    theta = theta / 4. * np.pi\n    for frequency in (0.1, 0.4):\n        kernel = gabor_kernel(frequency, theta=theta)\n        params = 'theta=%d,\\nfrequency=%.2f' % (theta * 180 / np.pi, frequency)\n        kernel_params.append(params)\n        # Save kernel and the power image for each image\n        results.append((kernel, [power(img, kernel) for img in images]))\n\nfig, axes = plt.subplots(nrows=5, ncols=4, figsize=(5, 6))\nplt.gray()\n\nfig.suptitle('Image responses for Gabor filter kernels', fontsize=12)\n\naxes[0][0].axis('off')\n\n# Plot original images\nfor label, img, ax in zip(image_names, images, axes[0][1:]):\n    ax.imshow(img)\n    ax.set_title(label, fontsize=9)\n    ax.axis('off')\n\nfor label, (kernel, powers), ax_row in zip(kernel_params, results, axes[1:]):\n    # Plot Gabor kernel\n    ax = ax_row[0]\n    ax.imshow(np.real(kernel))\n    ax.set_ylabel(label, fontsize=7)\n    ax.set_xticks([])\n    ax.set_yticks([])\n\n    # Plot Gabor responses with the contrast normalized for each filter\n    vmin = np.min(powers)\n    vmax = np.max(powers)\n    for patch, ax in zip(powers, ax_row[1:]):\n        ax.imshow(patch, vmin=vmin, vmax=vmax)\n        ax.axis('off')\n\nplt.show()"
      ]
    }
  ],
  "metadata": {
    "kernelspec": {
      "display_name": "Python 3",
      "language": "python",
      "name": "python3"
    },
    "language_info": {
      "codemirror_mode": {
        "name": "ipython",
        "version": 3
      },
      "file_extension": ".py",
      "mimetype": "text/x-python",
      "name": "python",
      "nbconvert_exporter": "python",
      "pygments_lexer": "ipython3",
      "version": "3.6.3"
    }
  },
  "nbformat": 4,
  "nbformat_minor": 0
}